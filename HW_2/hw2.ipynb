{
  "cells": [
    {
      "cell_type": "markdown",
      "metadata": {
        "id": "MDREvPHN31R5"
      },
      "source": [
        "# Αναγνώριση Προτύπων Μηχανικής Μάθησης\n",
        "Εργασία 2 \\\\\n",
        "Χρήστος Μπριστογιάννης sdi1900129 \\\\"
      ]
    },
    {
      "cell_type": "markdown",
      "metadata": {
        "id": "lWL0Zkcd4BrI"
      },
      "source": [
        "##Ερώτημα 1: Αναγνώριση Προσώπων (Face recognition)"
      ]
    },
    {
      "cell_type": "markdown",
      "metadata": {
        "id": "D7mOvc644utO"
      },
      "source": [
        "###Ζητούμενα i\n",
        "Να γράψετε μία συνάρτηση loadImages(path, set_number) η οποία παίρνει ως είσοδο το\n",
        "path στο οποίο βρίσκεται ο φάκελος των εικόνων π.χ. loadImages(“C:/images”, “Set_1”),\n",
        "διαβάζει τις εικόνες και επιστέφει έναν πίνακα δεδομένων ανάλογα με το set_number,\n",
        "όπου κάθε εικόνα αναπαρίσταται ως διάνυσμα στήλη. Η συνάρτηση επιστέφει επίσης τις\n",
        "κατηγορίες (labels) στις οποίες ανήκουν οι διαφορετικές εικόνες κωδικοποιημένες με\n",
        "ακεραίους (π.χ. 0 για φωτογραφίες που ανήκουν στο person_0, 1 για τις φωτογραφίες\n",
        "που ανήκουν στο person_1 κτλ)."
      ]
    },
    {
      "cell_type": "code",
      "execution_count": null,
      "metadata": {
        "colab": {
          "base_uri": "https://localhost:8080/"
        },
        "id": "GzbiDmjwQJTG",
        "outputId": "4e3d3d50-38ea-41d6-9783-d4994e2d7435"
      },
      "outputs": [
        {
          "name": "stdout",
          "output_type": "stream",
          "text": [
            "Drive already mounted at /content/drive; to attempt to forcibly remount, call drive.mount(\"/content/drive\", force_remount=True).\n"
          ]
        }
      ],
      "source": [
        "import cv2\n",
        "import numpy as np\n",
        "from google.colab import drive\n",
        "drive.mount('/content/drive')\n",
        "\n",
        "def loadImages(path, set_number):\n",
        "  if set_number == \"Set_1\":\n",
        "    start = 1\n",
        "    end = 7\n",
        "  elif set_number == \"Set_2\":\n",
        "    start = 8\n",
        "    end = 19\n",
        "  elif set_number == \"Set_3\":\n",
        "    start = 20\n",
        "    end = 31\n",
        "  elif set_number == \"Set_4\":\n",
        "    start = 32\n",
        "    end = 45\n",
        "  elif set_number == \"Set_5\":\n",
        "    start = 46\n",
        "    end = 64\n",
        "  else:\n",
        "    print(\"Error\")\n",
        "    return\n",
        "\n",
        "  arr = []\n",
        "  labels = []\n",
        "  for i in range(1, 11, 1):\n",
        "    for j in range(start, end+1, 1):\n",
        "      if i == 10:\n",
        "        mes = 'person10'+'_'\n",
        "      else:\n",
        "        mes = 'person0'+str(i)+'_'\n",
        "      if j < 10:\n",
        "        mes = mes+'0'+str(j)\n",
        "      else:\n",
        "        mes = mes + str(j)\n",
        "\n",
        "      img = cv2.imread(path+ mes + '.png', 0)\n",
        "\n",
        "      arr.append(np.reshape(img,-1))\n",
        "      labels.append(i)\n",
        "  return arr, labels\n",
        "\n",
        "\n",
        "#load images\n",
        "numberOfSets = 5\n",
        "nmsset = [\"Set_1\", \"Set_2\", \"Set_3\", \"Set_4\", \"Set_5\"]\n",
        "imgset = [None] * numberOfSets\n",
        "lblset = [None] * numberOfSets\n",
        "path = '/content/drive/My Drive/faces/'\n",
        "\n",
        "for i in range(0, numberOfSets):\n",
        "  imgset[i], lblset[i] = loadImages(path, nmsset[i])\n",
        "  # print(imgset[i])"
      ]
    },
    {
      "cell_type": "markdown",
      "metadata": {
        "id": "N02DiqbT3zuj"
      },
      "source": [
        "###Ζητούμενα ii\n",
        "Να εκπαιδεύσετε την μέθοδο Eigenfaces με d = 9 και d = 30 χρησιμοποιώντας όλες τις\n",
        "εικόνες στο Set_1 (70 εικόνες) και να αναγνωρίσετε τα πρόσωπα στα Set_1 έως Set_5.\n",
        "Για κάθε Set και κάθε τιμή της διάστασης d να αναφέρετε την ακρίβεια ταξινόμησης. Για\n",
        "το Set_1 αναμένουμε 100% ακρίβεια ταξινόμησης καθώς χρησιμοποιήθηκε για την\n",
        "εκπαίδευση της μεθόδου Eigenfaces. Σχολιάστε την δυνατότητα γενίκευσης της μεθόδου\n",
        "στα διαφορετικά Sets."
      ]
    },
    {
      "cell_type": "code",
      "execution_count": null,
      "metadata": {
        "colab": {
          "base_uri": "https://localhost:8080/"
        },
        "id": "NI1hWSc3BiRt",
        "outputId": "b6ce7e79-dc25-4d90-b313-d317823b58ec"
      },
      "outputs": [
        {
          "name": "stdout",
          "output_type": "stream",
          "text": [
            "\n",
            "--pca--\n",
            " PCA(n_components=9, whiten=True)\n",
            "components.shape (190, 9)\n"
          ]
        }
      ],
      "source": [
        "from sklearn.decomposition import PCA\n",
        "\n",
        "\n",
        "n_components = 9 ## how may componets to keep\n",
        "pca = PCA(n_components=n_components, whiten=True).fit(imgset[4])\n",
        "\n",
        "print (\"\\n--pca--\\n\",pca)\n",
        "\n",
        "\n",
        "components = pca.transform(imgset[4]) ## tranform the data to the new axes system)\n",
        "print (\"components.shape\",components.shape)"
      ]
    },
    {
      "cell_type": "markdown",
      "metadata": {
        "id": "x1f-TiMJVouw"
      },
      "source": [
        "##Ερώτημα 2: Ταξινόμηση εικόνων χρησιμοποιώντας SVMs"
      ]
    },
    {
      "cell_type": "code",
      "execution_count": 2,
      "metadata": {
        "colab": {
          "base_uri": "https://localhost:8080/"
        },
        "id": "rLJPkCU1oeZB",
        "outputId": "2c087468-0f2a-4bfb-e076-d50734cdabf2"
      },
      "outputs": [
        {
          "output_type": "stream",
          "name": "stderr",
          "text": [
            "/usr/local/lib/python3.10/dist-packages/sklearn/datasets/_openml.py:968: FutureWarning: The default value of `parser` will change from `'liac-arff'` to `'auto'` in 1.4. You can set `parser='auto'` to silence this warning. Therefore, an `ImportError` will be raised from 1.4 if the dataset is dense and pandas is not installed. Note that the pandas parser may return different data types. See the Notes Section in fetch_openml's API doc for details.\n",
            "  warn(\n",
            "/usr/local/lib/python3.10/dist-packages/sklearn/datasets/_openml.py:100: UserWarning: A network error occurred while downloading https://openml.org/data/v1/download/52667. Retrying...\n",
            "  warn(\n"
          ]
        }
      ],
      "source": [
        "from sklearn.datasets import fetch_openml\n",
        "\n",
        "# Φόρτωσει δεδομένων\n",
        "mnist = fetch_openml('mnist_784')"
      ]
    },
    {
      "cell_type": "code",
      "execution_count": 3,
      "metadata": {
        "id": "NAQ2ONH3Vxh1"
      },
      "outputs": [],
      "source": [
        "import numpy as np\n",
        "import random\n",
        "\n",
        "# Μετατρέπουμε τις εικόνες σε μορφή διανύσματος διαστάσεων 28 x 28\n",
        "X = np.array(mnist.data)\n",
        "Y = np.array(mnist.target)\n",
        "X = X.reshape(-1, 28, 28)\n",
        "\n",
        "# Κανονικοποιούμε τα δεδομένα στο διάστημα [0,1]\n",
        "X = X / 255.0\n",
        "\n",
        "\n",
        "def split_dataset(data, labels, train_size, val_size, test_size):\n",
        "  combined = list(zip(data, labels))  # Combine the lists into pairs\n",
        "  random.shuffle(combined)  # Shuffle the combined list\n",
        "  shuffled_data, shuffled_labels = zip(*combined)\n",
        "\n",
        "  # Split the shuffled data and labels\n",
        "  trainData = np.array(shuffled_data[:train_size])\n",
        "  trainLbl = np.array(shuffled_labels[:train_size])\n",
        "  valData = np.array(shuffled_data[train_size:train_size + val_size])\n",
        "  valLbl = np.array(shuffled_labels[train_size:train_size + val_size])\n",
        "  testData = np.array(shuffled_data[train_size + val_size:])\n",
        "  testLbl = np.array(shuffled_labels[train_size + val_size:])\n",
        "\n",
        "  return trainData, trainLbl, valData, valLbl, testData, testLbl\n",
        "\n",
        "trainData, trainLbl, valData, valLbl, testData, testLbl = split_dataset(X, Y, 1000, 500, 500)\n"
      ]
    },
    {
      "cell_type": "code",
      "execution_count": 6,
      "metadata": {
        "colab": {
          "base_uri": "https://localhost:8080/"
        },
        "id": "q5l01L76ya7Z",
        "outputId": "9210271d-ab9b-4656-a44c-51be837f6db3"
      },
      "outputs": [
        {
          "output_type": "stream",
          "name": "stdout",
          "text": [
            "Testing linear kernel...\n",
            " for values C=0.01 and gamma=0.0001 the accuracy is 0.886 and execution time is 0.1956005096435547\n",
            " for values C=0.01 and gamma=0.001 the accuracy is 0.886 and execution time is 0.18890905380249023\n",
            " for values C=0.01 and gamma=0.01 the accuracy is 0.886 and execution time is 0.19306015968322754\n",
            " for values C=0.01 and gamma=0.1 the accuracy is 0.886 and execution time is 0.18667197227478027\n",
            " for values C=0.01 and gamma=1 the accuracy is 0.886 and execution time is 0.18484807014465332\n",
            " for values C=0.01 and gamma=10 the accuracy is 0.886 and execution time is 0.18763494491577148\n",
            " for values C=0.1 and gamma=0.0001 the accuracy is 0.902 and execution time is 0.14275479316711426\n",
            " for values C=0.1 and gamma=0.001 the accuracy is 0.902 and execution time is 0.14754605293273926\n",
            " for values C=0.1 and gamma=0.01 the accuracy is 0.902 and execution time is 0.14212965965270996\n",
            " for values C=0.1 and gamma=0.1 the accuracy is 0.902 and execution time is 0.13668227195739746\n",
            " for values C=0.1 and gamma=1 the accuracy is 0.902 and execution time is 0.1370103359222412\n",
            " for values C=0.1 and gamma=10 the accuracy is 0.902 and execution time is 0.1387624740600586\n",
            " for values C=1 and gamma=0.0001 the accuracy is 0.902 and execution time is 0.1377091407775879\n",
            " for values C=1 and gamma=0.001 the accuracy is 0.902 and execution time is 0.1435697078704834\n",
            " for values C=1 and gamma=0.01 the accuracy is 0.902 and execution time is 0.14959478378295898\n",
            " for values C=1 and gamma=0.1 the accuracy is 0.902 and execution time is 0.15087676048278809\n",
            " for values C=1 and gamma=1 the accuracy is 0.902 and execution time is 0.1479814052581787\n",
            " for values C=1 and gamma=10 the accuracy is 0.902 and execution time is 0.14422035217285156\n",
            " for values C=10 and gamma=0.0001 the accuracy is 0.902 and execution time is 0.1522810459136963\n",
            " for values C=10 and gamma=0.001 the accuracy is 0.902 and execution time is 0.14417338371276855\n",
            " for values C=10 and gamma=0.01 the accuracy is 0.902 and execution time is 0.14863944053649902\n",
            " for values C=10 and gamma=0.1 the accuracy is 0.902 and execution time is 0.14301133155822754\n",
            " for values C=10 and gamma=1 the accuracy is 0.902 and execution time is 0.14630794525146484\n",
            " for values C=10 and gamma=10 the accuracy is 0.902 and execution time is 0.1457829475402832\n",
            " for values C=100 and gamma=0.0001 the accuracy is 0.902 and execution time is 0.14173531532287598\n",
            " for values C=100 and gamma=0.001 the accuracy is 0.902 and execution time is 0.14453601837158203\n",
            " for values C=100 and gamma=0.01 the accuracy is 0.902 and execution time is 0.13781261444091797\n",
            " for values C=100 and gamma=0.1 the accuracy is 0.902 and execution time is 0.13709688186645508\n",
            " for values C=100 and gamma=1 the accuracy is 0.902 and execution time is 0.1379532814025879\n",
            " for values C=100 and gamma=10 the accuracy is 0.902 and execution time is 0.1478111743927002\n",
            " for values C=1000 and gamma=0.0001 the accuracy is 0.902 and execution time is 0.13887238502502441\n",
            " for values C=1000 and gamma=0.001 the accuracy is 0.902 and execution time is 0.14387750625610352\n",
            " for values C=1000 and gamma=0.01 the accuracy is 0.902 and execution time is 0.14047670364379883\n",
            " for values C=1000 and gamma=0.1 the accuracy is 0.902 and execution time is 0.14070773124694824\n",
            " for values C=1000 and gamma=1 the accuracy is 0.902 and execution time is 0.14130544662475586\n",
            " for values C=1000 and gamma=10 the accuracy is 0.902 and execution time is 0.13689374923706055\n",
            "Best hyperparameters for linear kernel: C=0.1, gamma=0.0001 and average execution time 0.15068992641237047\n",
            "Validation accuracy: 0.9020\n",
            "Test accuracy: 0.8830\n",
            "\n",
            "Testing rbf kernel...\n",
            " for values C=0.01 and gamma=0.0001 the accuracy is 0.12 and execution time is 0.5412852764129639\n",
            " for values C=0.01 and gamma=0.001 the accuracy is 0.12 and execution time is 0.5230729579925537\n",
            " for values C=0.01 and gamma=0.01 the accuracy is 0.12 and execution time is 0.5252623558044434\n",
            " for values C=0.01 and gamma=0.1 the accuracy is 0.12 and execution time is 0.633181095123291\n",
            " for values C=0.01 and gamma=1 the accuracy is 0.12 and execution time is 0.725557804107666\n",
            " for values C=0.01 and gamma=10 the accuracy is 0.12 and execution time is 0.8208894729614258\n",
            " for values C=0.1 and gamma=0.0001 the accuracy is 0.12 and execution time is 0.5106077194213867\n",
            " for values C=0.1 and gamma=0.001 the accuracy is 0.184 and execution time is 0.5108804702758789\n",
            " for values C=0.1 and gamma=0.01 the accuracy is 0.76 and execution time is 0.4470176696777344\n",
            " for values C=0.1 and gamma=0.1 the accuracy is 0.12 and execution time is 0.5553672313690186\n",
            " for values C=0.1 and gamma=1 the accuracy is 0.12 and execution time is 0.5558631420135498\n",
            " for values C=0.1 and gamma=10 the accuracy is 0.12 and execution time is 0.6071140766143799\n",
            " for values C=1 and gamma=0.0001 the accuracy is 0.196 and execution time is 0.5232939720153809\n",
            " for values C=1 and gamma=0.001 the accuracy is 0.838 and execution time is 0.34617137908935547\n",
            " for values C=1 and gamma=0.01 the accuracy is 0.924 and execution time is 0.24300026893615723\n",
            " for values C=1 and gamma=0.1 the accuracy is 0.706 and execution time is 0.5554771423339844\n",
            " for values C=1 and gamma=1 the accuracy is 0.12 and execution time is 0.5659406185150146\n",
            " for values C=1 and gamma=10 the accuracy is 0.12 and execution time is 0.6225419044494629\n",
            " for values C=10 and gamma=0.0001 the accuracy is 0.838 and execution time is 0.4335286617279053\n",
            " for values C=10 and gamma=0.001 the accuracy is 0.91 and execution time is 0.24111628532409668\n",
            " for values C=10 and gamma=0.01 the accuracy is 0.938 and execution time is 0.3123779296875\n",
            " for values C=10 and gamma=0.1 the accuracy is 0.732 and execution time is 0.6655116081237793\n",
            " for values C=10 and gamma=1 the accuracy is 0.12 and execution time is 0.5593113899230957\n",
            " for values C=10 and gamma=10 the accuracy is 0.12 and execution time is 0.6172058582305908\n",
            " for values C=100 and gamma=0.0001 the accuracy is 0.91 and execution time is 0.17865824699401855\n",
            " for values C=100 and gamma=0.001 the accuracy is 0.906 and execution time is 0.15260529518127441\n",
            " for values C=100 and gamma=0.01 the accuracy is 0.938 and execution time is 0.2171783447265625\n",
            " for values C=100 and gamma=0.1 the accuracy is 0.732 and execution time is 0.5435035228729248\n",
            " for values C=100 and gamma=1 the accuracy is 0.12 and execution time is 0.5875222682952881\n",
            " for values C=100 and gamma=10 the accuracy is 0.12 and execution time is 0.6164212226867676\n",
            " for values C=1000 and gamma=0.0001 the accuracy is 0.902 and execution time is 0.1506483554840088\n",
            " for values C=1000 and gamma=0.001 the accuracy is 0.906 and execution time is 0.16399145126342773\n",
            " for values C=1000 and gamma=0.01 the accuracy is 0.938 and execution time is 0.21917986869812012\n",
            " for values C=1000 and gamma=0.1 the accuracy is 0.732 and execution time is 0.5434415340423584\n",
            " for values C=1000 and gamma=1 the accuracy is 0.12 and execution time is 0.5851857662200928\n",
            " for values C=1000 and gamma=10 the accuracy is 0.12 and execution time is 0.6270246505737305\n",
            "Best hyperparameters for rbf kernel: C=10, gamma=0.01 and average execution time 0.4785260226991441\n",
            "Validation accuracy: 0.9380\n",
            "Test accuracy: 0.9194\n",
            "\n"
          ]
        }
      ],
      "source": [
        "from sklearn import svm\n",
        "from sklearn.metrics import accuracy_score\n",
        "import time\n",
        "\n",
        "# Define the hyperparameters to test\n",
        "c_values = [0.01, 0.1, 1, 10, 100, 1000]\n",
        "gamma_values = [0.0001, 0.001, 0.01, 0.1, 1, 10]\n",
        "sum_execution = 0\n",
        "\n",
        "# Train and evaluate SVMs with different hyperparameter combinations\n",
        "for kernel in ['linear', 'rbf']:\n",
        "    best_accuracy = 0\n",
        "    best_c = None\n",
        "    best_gamma = None\n",
        "    \n",
        "    print(f'Testing {kernel} kernel...')\n",
        "\n",
        "    for c in c_values:\n",
        "        for gamma in gamma_values:\n",
        "            # Train SVM\n",
        "            svm_model = svm.SVC(kernel=kernel, C=c, gamma=gamma)\n",
        "\n",
        "            # Measure execution time\n",
        "            start_time = time.time()\n",
        "            svm_model.fit(trainData.reshape(trainData.shape[0], -1), trainLbl)\n",
        "            execution_time = time.time() - start_time\n",
        "            sum_execution += execution_time\n",
        "            \n",
        "            # Evaluate SVM on validation set\n",
        "            val_predictions = svm_model.predict(valData.reshape(valData.shape[0], -1))\n",
        "            val_accuracy = accuracy_score(valLbl, val_predictions)\n",
        "            \n",
        "            print(f' for values C={c} and gamma={gamma} the accuracy is {val_accuracy} and execution time is {execution_time}')\n",
        "            \n",
        "            # Update best hyperparameters if accuracy is higher\n",
        "            if val_accuracy > best_accuracy:\n",
        "                best_accuracy = val_accuracy\n",
        "                best_c = c\n",
        "                best_gamma = gamma\n",
        "\n",
        "    # Train SVM with best hyperparameters on full training set\n",
        "    svm_model = svm.SVC(kernel=kernel, C=best_c, gamma=best_gamma)\n",
        "    svm_model.fit(trainData.reshape(trainData.shape[0], -1), trainLbl)\n",
        "\n",
        "    # Evaluate SVM on test set\n",
        "    test_predictions = svm_model.predict(testData.reshape(testData.shape[0], -1))\n",
        "    test_accuracy = accuracy_score(testLbl, test_predictions)\n",
        "\n",
        "    # Print results\n",
        "    print(f'Best hyperparameters for {kernel} kernel: C={best_c}, gamma={best_gamma} and average execution time {sum_execution/(len(c_values)*len(gamma_values))}')\n",
        "    print(f'Validation accuracy: {best_accuracy:.4f}')\n",
        "    print(f'Test accuracy: {test_accuracy:.4f}\\n')\n",
        "    sum_execution = 0\n"
      ]
    },
    {
      "cell_type": "code",
      "source": [
        "from sklearn.decomposition import PCA\n",
        "\n",
        "# Define the variance ratios to test\n",
        "variance_ratios = [0.1, 0.2, 0.3, 0.4, 0.5, 0.6, 0.7, 0.8, 0.9, 0.95]\n",
        "\n",
        "# Perform PCA and SVM for different variance ratios\n",
        "for variance_ratio in variance_ratios:\n",
        "    print(f'Testing PCA with variance ratio {variance_ratio}...')\n",
        "\n",
        "    # Perform PCA\n",
        "    pca = PCA(n_components=variance_ratio)\n",
        "    pca_trainData = pca.fit_transform(trainData.reshape(trainData.shape[0], -1))\n",
        "    pca_valData = pca.transform(valData.reshape(valData.shape[0], -1))\n",
        "    pca_testData = pca.transform(testData.reshape(testData.shape[0], -1))\n",
        "    components = pca.n_components_\n",
        "\n",
        "    # Train SVM with best hyperparameters on PCA-transformed data\n",
        "    svm_model = svm.SVC(kernel=kernel, C=best_c, gamma=best_gamma)\n",
        "    \n",
        "    # Measure execution time\n",
        "    start_time = time.time()\n",
        "    svm_model.fit(pca_trainData, trainLbl)\n",
        "    execution_time = time.time() - start_time\n",
        "\n",
        "    # Evaluate SVM on validation set\n",
        "    val_predictions = svm_model.predict(pca_valData)\n",
        "    val_accuracy = accuracy_score(valLbl, val_predictions)\n",
        "\n",
        "    # Evaluate SVM on test set\n",
        "    test_predictions = svm_model.predict(pca_testData)\n",
        "    test_accuracy = accuracy_score(testLbl, test_predictions)\n",
        "\n",
        "    # Print results\n",
        "    print(f'Number of components: {components}')\n",
        "    print(f'Validation accuracy: {val_accuracy:.4f}')\n",
        "    print(f'Test accuracy: {test_accuracy:.4f}')\n",
        "    print(f'Execution time: {execution_time:.4f} seconds\\n')\n"
      ],
      "metadata": {
        "colab": {
          "base_uri": "https://localhost:8080/"
        },
        "id": "FTPaBxA-LU_C",
        "outputId": "b6eab571-9775-4ee3-aca7-d8cecb0fa9b8"
      },
      "execution_count": 7,
      "outputs": [
        {
          "output_type": "stream",
          "name": "stdout",
          "text": [
            "Testing PCA with variance ratio 0.1...\n",
            "Number of components: 2\n",
            "Validation accuracy: 0.4340\n",
            "Test accuracy: 0.4195\n",
            "Execution time: 0.0563 seconds\n",
            "\n",
            "Testing PCA with variance ratio 0.2...\n",
            "Number of components: 3\n",
            "Validation accuracy: 0.4500\n",
            "Test accuracy: 0.4511\n",
            "Execution time: 0.0555 seconds\n",
            "\n",
            "Testing PCA with variance ratio 0.3...\n",
            "Number of components: 5\n",
            "Validation accuracy: 0.6760\n",
            "Test accuracy: 0.7016\n",
            "Execution time: 0.0827 seconds\n",
            "\n",
            "Testing PCA with variance ratio 0.4...\n",
            "Number of components: 7\n",
            "Validation accuracy: 0.8140\n",
            "Test accuracy: 0.8119\n",
            "Execution time: 0.0382 seconds\n",
            "\n",
            "Testing PCA with variance ratio 0.5...\n",
            "Number of components: 11\n",
            "Validation accuracy: 0.8960\n",
            "Test accuracy: 0.8756\n",
            "Execution time: 0.0960 seconds\n",
            "\n",
            "Testing PCA with variance ratio 0.6...\n",
            "Number of components: 16\n",
            "Validation accuracy: 0.9040\n",
            "Test accuracy: 0.8975\n",
            "Execution time: 0.0406 seconds\n",
            "\n",
            "Testing PCA with variance ratio 0.7...\n",
            "Number of components: 25\n",
            "Validation accuracy: 0.9220\n",
            "Test accuracy: 0.9136\n",
            "Execution time: 0.0507 seconds\n",
            "\n",
            "Testing PCA with variance ratio 0.8...\n",
            "Number of components: 40\n",
            "Validation accuracy: 0.9180\n",
            "Test accuracy: 0.9171\n",
            "Execution time: 0.0590 seconds\n",
            "\n",
            "Testing PCA with variance ratio 0.9...\n",
            "Number of components: 77\n",
            "Validation accuracy: 0.9260\n",
            "Test accuracy: 0.9183\n",
            "Execution time: 0.0831 seconds\n",
            "\n",
            "Testing PCA with variance ratio 0.95...\n",
            "Number of components: 130\n",
            "Validation accuracy: 0.9320\n",
            "Test accuracy: 0.9189\n",
            "Execution time: 0.0946 seconds\n",
            "\n"
          ]
        }
      ]
    }
  ],
  "metadata": {
    "colab": {
      "collapsed_sections": [
        "lWL0Zkcd4BrI"
      ],
      "provenance": []
    },
    "kernelspec": {
      "display_name": "Python 3",
      "name": "python3"
    },
    "language_info": {
      "name": "python"
    }
  },
  "nbformat": 4,
  "nbformat_minor": 0
}