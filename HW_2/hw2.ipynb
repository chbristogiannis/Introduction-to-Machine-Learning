{
  "cells": [
    {
      "cell_type": "markdown",
      "metadata": {
        "id": "MDREvPHN31R5"
      },
      "source": [
        "# Αναγνώριση Προτύπων Μηχανικής Μάθησης\n",
        "Εργασία 2 \\\\\n",
        "Χρήστος Μπριστογιάννης sdi1900129 \\\\"
      ]
    },
    {
      "cell_type": "markdown",
      "metadata": {
        "id": "lWL0Zkcd4BrI"
      },
      "source": [
        "##Ερώτημα 1: Αναγνώριση Προσώπων (Face recognition)"
      ]
    },
    {
      "cell_type": "markdown",
      "metadata": {
        "id": "D7mOvc644utO"
      },
      "source": [
        "###Ζητούμενα i\n",
        "Να γράψετε μία συνάρτηση loadImages(path, set_number) η οποία παίρνει ως είσοδο το\n",
        "path στο οποίο βρίσκεται ο φάκελος των εικόνων π.χ. loadImages(“C:/images”, “Set_1”),\n",
        "διαβάζει τις εικόνες και επιστέφει έναν πίνακα δεδομένων ανάλογα με το set_number,\n",
        "όπου κάθε εικόνα αναπαρίσταται ως διάνυσμα στήλη. Η συνάρτηση επιστέφει επίσης τις\n",
        "κατηγορίες (labels) στις οποίες ανήκουν οι διαφορετικές εικόνες κωδικοποιημένες με\n",
        "ακεραίους (π.χ. 0 για φωτογραφίες που ανήκουν στο person_0, 1 για τις φωτογραφίες\n",
        "που ανήκουν στο person_1 κτλ)."
      ]
    },
    {
      "cell_type": "code",
      "execution_count": null,
      "metadata": {
        "colab": {
          "base_uri": "https://localhost:8080/"
        },
        "id": "GzbiDmjwQJTG",
        "outputId": "4e3d3d50-38ea-41d6-9783-d4994e2d7435"
      },
      "outputs": [
        {
          "name": "stdout",
          "output_type": "stream",
          "text": [
            "Drive already mounted at /content/drive; to attempt to forcibly remount, call drive.mount(\"/content/drive\", force_remount=True).\n"
          ]
        }
      ],
      "source": [
        "import cv2\n",
        "import numpy as np\n",
        "from google.colab import drive\n",
        "drive.mount('/content/drive')\n",
        "\n",
        "def loadImages(path, set_number):\n",
        "  if set_number == \"Set_1\":\n",
        "    start = 1\n",
        "    end = 7\n",
        "  elif set_number == \"Set_2\":\n",
        "    start = 8\n",
        "    end = 19\n",
        "  elif set_number == \"Set_3\":\n",
        "    start = 20\n",
        "    end = 31\n",
        "  elif set_number == \"Set_4\":\n",
        "    start = 32\n",
        "    end = 45\n",
        "  elif set_number == \"Set_5\":\n",
        "    start = 46\n",
        "    end = 64\n",
        "  else:\n",
        "    print(\"Error\")\n",
        "    return\n",
        "\n",
        "  arr = []\n",
        "  labels = []\n",
        "  for i in range(1, 11, 1):\n",
        "    for j in range(start, end+1, 1):\n",
        "      if i == 10:\n",
        "        mes = 'person10'+'_'\n",
        "      else:\n",
        "        mes = 'person0'+str(i)+'_'\n",
        "      if j < 10:\n",
        "        mes = mes+'0'+str(j)\n",
        "      else:\n",
        "        mes = mes + str(j)\n",
        "\n",
        "      img = cv2.imread(path+ mes + '.png', 0)\n",
        "\n",
        "      arr.append(np.reshape(img,-1))\n",
        "      labels.append(i)\n",
        "  return arr, labels\n",
        "\n",
        "\n",
        "#load images\n",
        "numberOfSets = 5\n",
        "nmsset = [\"Set_1\", \"Set_2\", \"Set_3\", \"Set_4\", \"Set_5\"]\n",
        "imgset = [None] * numberOfSets\n",
        "lblset = [None] * numberOfSets\n",
        "path = '/content/drive/My Drive/faces/'\n",
        "\n",
        "for i in range(0, numberOfSets):\n",
        "  imgset[i], lblset[i] = loadImages(path, nmsset[i])\n",
        "  # print(imgset[i])"
      ]
    },
    {
      "cell_type": "markdown",
      "metadata": {
        "id": "N02DiqbT3zuj"
      },
      "source": [
        "###Ζητούμενα ii\n",
        "Να εκπαιδεύσετε την μέθοδο Eigenfaces με d = 9 και d = 30 χρησιμοποιώντας όλες τις\n",
        "εικόνες στο Set_1 (70 εικόνες) και να αναγνωρίσετε τα πρόσωπα στα Set_1 έως Set_5.\n",
        "Για κάθε Set και κάθε τιμή της διάστασης d να αναφέρετε την ακρίβεια ταξινόμησης. Για\n",
        "το Set_1 αναμένουμε 100% ακρίβεια ταξινόμησης καθώς χρησιμοποιήθηκε για την\n",
        "εκπαίδευση της μεθόδου Eigenfaces. Σχολιάστε την δυνατότητα γενίκευσης της μεθόδου\n",
        "στα διαφορετικά Sets."
      ]
    },
    {
      "cell_type": "code",
      "execution_count": null,
      "metadata": {
        "colab": {
          "base_uri": "https://localhost:8080/"
        },
        "id": "NI1hWSc3BiRt",
        "outputId": "b6ce7e79-dc25-4d90-b313-d317823b58ec"
      },
      "outputs": [
        {
          "name": "stdout",
          "output_type": "stream",
          "text": [
            "\n",
            "--pca--\n",
            " PCA(n_components=9, whiten=True)\n",
            "components.shape (190, 9)\n"
          ]
        }
      ],
      "source": [
        "from sklearn.decomposition import PCA\n",
        "\n",
        "\n",
        "n_components = 9 ## how may componets to keep\n",
        "pca = PCA(n_components=n_components, whiten=True).fit(imgset[4])\n",
        "\n",
        "print (\"\\n--pca--\\n\",pca)\n",
        "\n",
        "\n",
        "components = pca.transform(imgset[4]) ## tranform the data to the new axes system)\n",
        "print (\"components.shape\",components.shape)"
      ]
    },
    {
      "cell_type": "markdown",
      "metadata": {
        "id": "x1f-TiMJVouw"
      },
      "source": [
        "##Ερώτημα 2: Ταξινόμηση εικόνων χρησιμοποιώντας SVMs"
      ]
    },
    {
      "cell_type": "code",
      "execution_count": 2,
      "metadata": {
        "colab": {
          "base_uri": "https://localhost:8080/"
        },
        "id": "rLJPkCU1oeZB",
        "outputId": "af3e1e25-1f64-4b5a-d634-b8bb89141bc5"
      },
      "outputs": [
        {
          "output_type": "stream",
          "name": "stderr",
          "text": [
            "/usr/local/lib/python3.10/dist-packages/sklearn/datasets/_openml.py:968: FutureWarning: The default value of `parser` will change from `'liac-arff'` to `'auto'` in 1.4. You can set `parser='auto'` to silence this warning. Therefore, an `ImportError` will be raised from 1.4 if the dataset is dense and pandas is not installed. Note that the pandas parser may return different data types. See the Notes Section in fetch_openml's API doc for details.\n",
            "  warn(\n"
          ]
        }
      ],
      "source": [
        "from sklearn.datasets import fetch_openml\n",
        "\n",
        "# Φόρτωσει δεδομένων\n",
        "mnist = fetch_openml('mnist_784')"
      ]
    },
    {
      "cell_type": "code",
      "execution_count": 3,
      "metadata": {
        "id": "NAQ2ONH3Vxh1"
      },
      "outputs": [],
      "source": [
        "import numpy as np\n",
        "# Μετατρέπουμε τις εικόνες σε μορφή διανύσματος διαστάσεων 28 x 28\n",
        "X = np.array(mnist.data)\n",
        "X = X.reshape(-1, 28, 28)\n",
        "\n",
        "# Κανονικοποιούμε τα δεδομένα στο διάστημα [0,1]\n",
        "X = X / 255.0\n",
        "\n",
        "# Split the dataset into training, validation, and test sets\n",
        "train_images, train_labels = X[:5000], mnist.target[:5000]\n",
        "val_images, val_labels = X[5000:6000], mnist.target[5000:6000]\n",
        "test_images, test_labels = X[6000:], mnist.target[6000:]\n",
        "\n",
        "# print(len(train_images))\n",
        "# print(len(val_images))\n",
        "# print(len(test_images))"
      ]
    },
    {
      "cell_type": "code",
      "execution_count": 4,
      "metadata": {
        "colab": {
          "base_uri": "https://localhost:8080/"
        },
        "id": "q5l01L76ya7Z",
        "outputId": "842dd873-c73b-4ea6-ee8e-d2b3328cc613"
      },
      "outputs": [
        {
          "output_type": "stream",
          "name": "stdout",
          "text": [
            "Testing linear kernel...\n",
            "For values c: 0.01 and gamma: 0.001 and accuracy is: 0.919\n",
            "For values c: 0.01 and gamma: 0.01 and accuracy is: 0.919\n",
            "For values c: 0.01 and gamma: 0.1 and accuracy is: 0.919\n",
            "For values c: 0.01 and gamma: 1 and accuracy is: 0.919\n",
            "For values c: 0.1 and gamma: 0.001 and accuracy is: 0.93\n",
            "For values c: 0.1 and gamma: 0.01 and accuracy is: 0.93\n",
            "For values c: 0.1 and gamma: 0.1 and accuracy is: 0.93\n",
            "For values c: 0.1 and gamma: 1 and accuracy is: 0.93\n",
            "For values c: 1 and gamma: 0.001 and accuracy is: 0.908\n",
            "For values c: 1 and gamma: 0.01 and accuracy is: 0.908\n",
            "For values c: 1 and gamma: 0.1 and accuracy is: 0.908\n",
            "For values c: 1 and gamma: 1 and accuracy is: 0.908\n",
            "For values c: 10 and gamma: 0.001 and accuracy is: 0.908\n",
            "For values c: 10 and gamma: 0.01 and accuracy is: 0.908\n",
            "For values c: 10 and gamma: 0.1 and accuracy is: 0.908\n",
            "For values c: 10 and gamma: 1 and accuracy is: 0.908\n",
            "Best hyperparameters for linear kernel: C=0.1, gamma=0.001\n",
            "Validation accuracy: 0.9300\n",
            "Test accuracy: 0.9168\n",
            "\n",
            "Testing rbf kernel...\n",
            "For values c: 0.01 and gamma: 0.001 and accuracy is: 0.108\n",
            "For values c: 0.01 and gamma: 0.01 and accuracy is: 0.576\n",
            "For values c: 0.01 and gamma: 0.1 and accuracy is: 0.108\n",
            "For values c: 0.01 and gamma: 1 and accuracy is: 0.108\n",
            "For values c: 0.1 and gamma: 0.001 and accuracy is: 0.761\n",
            "For values c: 0.1 and gamma: 0.01 and accuracy is: 0.914\n",
            "For values c: 0.1 and gamma: 0.1 and accuracy is: 0.229\n",
            "For values c: 0.1 and gamma: 1 and accuracy is: 0.108\n",
            "For values c: 1 and gamma: 0.001 and accuracy is: 0.903\n",
            "For values c: 1 and gamma: 0.01 and accuracy is: 0.948\n",
            "For values c: 1 and gamma: 0.1 and accuracy is: 0.841\n",
            "For values c: 1 and gamma: 1 and accuracy is: 0.16\n",
            "For values c: 10 and gamma: 0.001 and accuracy is: 0.934\n",
            "For values c: 10 and gamma: 0.01 and accuracy is: 0.958\n",
            "For values c: 10 and gamma: 0.1 and accuracy is: 0.849\n",
            "For values c: 10 and gamma: 1 and accuracy is: 0.161\n",
            "Best hyperparameters for rbf kernel: C=10, gamma=0.01\n",
            "Validation accuracy: 0.9580\n",
            "Test accuracy: 0.9514\n",
            "\n"
          ]
        }
      ],
      "source": [
        "from sklearn import svm\n",
        "from sklearn.metrics import accuracy_score\n",
        "\n",
        "# Define the hyperparameters to test\n",
        "c_values = [0.01, 0.1, 1, 10]\n",
        "gamma_values = [0.001, 0.01, 0.1, 1]\n",
        "\n",
        "# Train and evaluate SVMs with different hyperparameter combinations\n",
        "for kernel in ['linear', 'rbf']:\n",
        "    best_accuracy = 0\n",
        "    best_c = None\n",
        "    best_gamma = None\n",
        "    \n",
        "    print(f'Testing {kernel} kernel...')\n",
        "    \n",
        "    for c in c_values:\n",
        "        for gamma in gamma_values:\n",
        "            # Train SVM\n",
        "            svm_model = svm.SVC(kernel=kernel, C=c, gamma=gamma)\n",
        "            svm_model.fit(train_images.reshape(train_images.shape[0], -1), train_labels)\n",
        "            \n",
        "            # Evaluate SVM on validation set\n",
        "            val_predictions = svm_model.predict(val_images.reshape(val_images.shape[0], -1))\n",
        "            val_accuracy = accuracy_score(val_labels, val_predictions)\n",
        "            print(f'For values c: {c} and gamma: {gamma} and accuracy is: {val_accuracy}')\n",
        "            # Update best hyperparameters if accuracy is higher\n",
        "            if val_accuracy > best_accuracy:\n",
        "                best_accuracy = val_accuracy\n",
        "                best_c = c\n",
        "                best_gamma = gamma\n",
        "    \n",
        "    # Train SVM with best hyperparameters on full training set\n",
        "    svm_model = svm.SVC(kernel=kernel, C=best_c, gamma=best_gamma)\n",
        "    svm_model.fit(train_images.reshape(train_images.shape[0], -1), train_labels)\n",
        "    \n",
        "    # Evaluate SVM on test set\n",
        "    test_predictions = svm_model.predict(test_images.reshape(test_images.shape[0], -1))\n",
        "    test_accuracy = accuracy_score(test_labels, test_predictions)\n",
        "    \n",
        "    # Print results\n",
        "    print(f'Best hyperparameters for {kernel} kernel: C={best_c}, gamma={best_gamma}')\n",
        "    print(f'Validation accuracy: {best_accuracy:.4f}')\n",
        "    print(f'Test accuracy: {test_accuracy:.4f}\\n')\n"
      ]
    }
  ],
  "metadata": {
    "colab": {
      "collapsed_sections": [
        "lWL0Zkcd4BrI"
      ],
      "provenance": []
    },
    "kernelspec": {
      "display_name": "Python 3",
      "name": "python3"
    },
    "language_info": {
      "name": "python"
    }
  },
  "nbformat": 4,
  "nbformat_minor": 0
}